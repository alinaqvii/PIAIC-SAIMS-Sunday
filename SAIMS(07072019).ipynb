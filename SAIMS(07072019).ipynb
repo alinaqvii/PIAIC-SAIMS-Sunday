{
 "cells": [
  {
   "cell_type": "markdown",
   "metadata": {},
   "source": [
    "# Inheritance"
   ]
  },
  {
   "cell_type": "code",
   "execution_count": 1,
   "metadata": {},
   "outputs": [],
   "source": [
    "class Car():\n",
    "    def __init__(self, make,model,year):\n",
    "        self.make = make\n",
    "        self.model = model\n",
    "        self.year = year\n",
    "        self.odometer_reading = 0\n",
    "    \n",
    "    def description(self):\n",
    "        full_name= f\"the name of car is {self.make} {self.model}{self.year}\"\n",
    "        return full_name\n",
    "    \n",
    "    def read_odometer(self):\n",
    "        print(f\"The car has run {self.odometer_reading} miles\")\n",
    " \n",
    "    def update_odometer(self, mileage):\n",
    "        self.odometer_reading = mileage"
   ]
  },
  {
   "cell_type": "code",
   "execution_count": 13,
   "metadata": {},
   "outputs": [],
   "source": [
    "class ElectricCar(Car):\n",
    "    def __init__(self,make,model,year):\n",
    "        super().__init__(make,model,year)\n",
    "        self.batterySize = 100\n",
    "        self.battteryMan = \"Exide\"\n",
    "        \n",
    "    \n",
    "    def getBatterySize(self):\n",
    "        print(f\"Battery size is: {self.batterySize}\")\n",
    "    \n",
    "    def setBatterySize(self, newBatterySize):\n",
    "        self.batterySize = newBatterySize\n",
    "    \n",
    "        "
   ]
  },
  {
   "cell_type": "code",
   "execution_count": 14,
   "metadata": {},
   "outputs": [],
   "source": [
    "eCar= ElectricCar(\"abc\", \"model\",2019)"
   ]
  },
  {
   "cell_type": "code",
   "execution_count": 15,
   "metadata": {},
   "outputs": [
    {
     "name": "stdout",
     "output_type": "stream",
     "text": [
      "Battery size is: 100\n"
     ]
    }
   ],
   "source": [
    "eCar.getBatterySize()"
   ]
  },
  {
   "cell_type": "code",
   "execution_count": 16,
   "metadata": {},
   "outputs": [
    {
     "name": "stdout",
     "output_type": "stream",
     "text": [
      "Battery size is: 400\n"
     ]
    }
   ],
   "source": [
    "eCar.setBatterySize(400)\n",
    "eCar.getBatterySize()"
   ]
  },
  {
   "cell_type": "code",
   "execution_count": 17,
   "metadata": {},
   "outputs": [],
   "source": [
    "# 9-1. Restaurant: Make a class called Restaurant . \n",
    "#The __init__() method for\n",
    "# Restaurant should store two attributes: \n",
    "#a restaurant_name and a cuisine_type .\n",
    "# Make a method called describe_restaurant() that prints these two pieces of\n",
    "# information, and a method called open_restaurant() that prints a message indi-\n",
    "# cating that the restaurant is open.\n",
    "# Make an instance called restaurant from your class. Print the two attri-\n",
    "# butes individually, and then call both methods."
   ]
  },
  {
   "cell_type": "code",
   "execution_count": 39,
   "metadata": {},
   "outputs": [],
   "source": [
    "class Restaurant():\n",
    "    \n",
    "    def __init__(self, resName, cuisineType):\n",
    "        self.resName = resName\n",
    "        self.cuisineType = cuisineType\n",
    "    \n",
    "    def describe_restaurant(self):\n",
    "        print(f\"The name of restaurant is: {self.resName}\")\n",
    "        print(f\"The cuisine type is: {self.cuisineType}\")\n",
    "    \n",
    "    def isOpen(self,time):\n",
    "        if (time >24 or time<10):\n",
    "            print(f\"{self.resName} is close\")\n",
    "        else:\n",
    "            print(f\"{self.resName} is open\")\n",
    "    "
   ]
  },
  {
   "cell_type": "code",
   "execution_count": 34,
   "metadata": {},
   "outputs": [],
   "source": [
    "r1 = Restaurant('ChinaTown', \"Chineese\")"
   ]
  },
  {
   "cell_type": "code",
   "execution_count": 35,
   "metadata": {},
   "outputs": [
    {
     "name": "stdout",
     "output_type": "stream",
     "text": [
      "ChinaTown\n",
      "Chineese\n"
     ]
    }
   ],
   "source": [
    "print(r1.resName)\n",
    "print(r1.cuisineType)"
   ]
  },
  {
   "cell_type": "code",
   "execution_count": 36,
   "metadata": {},
   "outputs": [
    {
     "name": "stdout",
     "output_type": "stream",
     "text": [
      "The name of restaurant is: ChinaTown\n",
      "The cuisine type is: Chineese\n"
     ]
    }
   ],
   "source": [
    "r1.describe_restaurant()"
   ]
  },
  {
   "cell_type": "code",
   "execution_count": 38,
   "metadata": {},
   "outputs": [
    {
     "name": "stdout",
     "output_type": "stream",
     "text": [
      "ChinaTown is open\n"
     ]
    }
   ],
   "source": [
    "r1.isOpen(17)"
   ]
  },
  {
   "cell_type": "code",
   "execution_count": 40,
   "metadata": {},
   "outputs": [],
   "source": [
    "# 9-4. Number Served: Start with your program from Exercise 9-1 (page 166).\n",
    "# Add an attribute called number_served with a default value of 0. Create an\n",
    "# instance called restaurant from this class. Print the number of customers the\n",
    "# restaurant has served, and then change this value and print it again.\n",
    "# Add a method called set_number_served() that lets you set the number\n",
    "# of customers that have been served. Call this method with a new number and\n",
    "# print the value again.\n",
    "# Add a method called increment_number_served() that lets you increment\n",
    "# the number of customers who’ve been served. Call this method with any num-\n",
    "# ber you like that could represent how many customers were served in, say, a\n",
    "# day of business."
   ]
  },
  {
   "cell_type": "code",
   "execution_count": 54,
   "metadata": {},
   "outputs": [],
   "source": [
    "class Restaurant():    \n",
    "    def __init__(self, resName, cuisineType):\n",
    "        self.resName = resName\n",
    "        self.cuisineType = cuisineType\n",
    "        self.numbersServed = 0    \n",
    "    def describe_restaurant(self):\n",
    "        print(f\"The name of restaurant is: {self.resName}\")\n",
    "        print(f\"The cuisine type is: {self.cuisineType}\")    \n",
    "    def isOpen(self,time):\n",
    "        if (time >24 or time<10):\n",
    "            print(f\"{self.resName} is close\")\n",
    "        else:\n",
    "            print(f\"{self.resName} is open\")\n",
    "    def getNumbersServed(self):\n",
    "        print(f\"{self.numbersServed} customers have been served\")\n",
    "        \n",
    "    def setNumbersServed(self,numbers):\n",
    "        self.numbersServed = numbers\n",
    "        \n",
    "    def incrementNumServed(self, numbers):\n",
    "        self.numbersServed +=numbers"
   ]
  },
  {
   "cell_type": "code",
   "execution_count": 55,
   "metadata": {},
   "outputs": [],
   "source": [
    "restaurant  = Restaurant(\"KFC\", \"FastFood\")"
   ]
  },
  {
   "cell_type": "code",
   "execution_count": 56,
   "metadata": {},
   "outputs": [
    {
     "name": "stdout",
     "output_type": "stream",
     "text": [
      "0 customers have been served\n"
     ]
    }
   ],
   "source": [
    "restaurant.getNumbersServed()"
   ]
  },
  {
   "cell_type": "code",
   "execution_count": 57,
   "metadata": {},
   "outputs": [
    {
     "name": "stdout",
     "output_type": "stream",
     "text": [
      "12 customers have been served\n"
     ]
    }
   ],
   "source": [
    "restaurant.setNumbersServed(12)\n",
    "restaurant.getNumbersServed()"
   ]
  },
  {
   "cell_type": "code",
   "execution_count": 67,
   "metadata": {},
   "outputs": [
    {
     "name": "stdout",
     "output_type": "stream",
     "text": [
      "160 customers have been served\n"
     ]
    }
   ],
   "source": [
    "restaurant.incrementNumServed(40)\n",
    "restaurant.getNumbersServed()"
   ]
  },
  {
   "cell_type": "code",
   "execution_count": 68,
   "metadata": {},
   "outputs": [],
   "source": [
    "# 9-6. Ice Cream Stand: An ice cream stand is a specific kind of restaurant. Write\n",
    "# a class called IceCreamStand that inherits from the Restaurant class you wrote\n",
    "# in Exercise 9-1 (page 166) or Exercise 9-4 (page 171). Either version of\n",
    "# the class will work; just pick the one you like better. Add an attribute called\n",
    "# flavors that stores a list of ice cream flavors. Write a method that displays\n",
    "# these flavors. Create an instance of IceCreamStand , and call this method."
   ]
  },
  {
   "cell_type": "code",
   "execution_count": 74,
   "metadata": {},
   "outputs": [],
   "source": [
    "class IceCreamStand(Restaurant):    \n",
    "    def __init__(self, resName, cuisineType):\n",
    "        super().__init__(resName, cuisineType)\n",
    "        self.flavours = ['vanilla', 'mango', 'chocolate']    \n",
    "    def getFlavours(self):\n",
    "        print(f\"Flavours are:\")\n",
    "        for flavour in self.flavours:            \n",
    "            print(flavour, end=\" \")"
   ]
  },
  {
   "cell_type": "code",
   "execution_count": 75,
   "metadata": {},
   "outputs": [],
   "source": [
    "ice1=IceCreamStand(\"Peshawri\", \"italianIceCream\")"
   ]
  },
  {
   "cell_type": "code",
   "execution_count": 76,
   "metadata": {},
   "outputs": [
    {
     "name": "stdout",
     "output_type": "stream",
     "text": [
      "Peshawri\n",
      "italianIceCream\n"
     ]
    }
   ],
   "source": [
    "print(ice1.resName)\n",
    "print(ice1.cuisineType)"
   ]
  },
  {
   "cell_type": "code",
   "execution_count": 77,
   "metadata": {},
   "outputs": [
    {
     "name": "stdout",
     "output_type": "stream",
     "text": [
      "Flavours are:\n",
      "vanilla mango chocolate "
     ]
    }
   ],
   "source": [
    "ice1.getFlavours()"
   ]
  },
  {
   "cell_type": "code",
   "execution_count": 78,
   "metadata": {},
   "outputs": [],
   "source": [
    "class Car():\n",
    "    def __init__(self, make,model,year):\n",
    "        self.make = make\n",
    "        self.model = model\n",
    "        self.year = year\n",
    "        self.odometer_reading = 0\n",
    "    \n",
    "    def description(self):\n",
    "        full_name= f\"the name of car is {self.make} {self.model}{self.year}\"\n",
    "        return full_name\n",
    "    \n",
    "    def read_odometer(self):\n",
    "        print(f\"The car has run {self.odometer_reading} miles\")\n",
    " \n",
    "    def update_odometer(self, mileage):\n",
    "        self.odometer_reading = mileage"
   ]
  },
  {
   "cell_type": "code",
   "execution_count": 82,
   "metadata": {},
   "outputs": [],
   "source": [
    "class Battery():\n",
    "    def __init__(self,manuf, size):\n",
    "        self.manuf= manuf\n",
    "        self.batterySize=size\n",
    "        \n",
    "    \n",
    "    def getBatterySize(self):\n",
    "        print(f\"Battery size is: {self.batterySize}\")\n",
    "        \n",
    "    def setBatterySize(self, newBatterySize):\n",
    "        self.batterySize = newBatterySize"
   ]
  },
  {
   "cell_type": "code",
   "execution_count": 83,
   "metadata": {},
   "outputs": [],
   "source": [
    "class ElectricCar(Car):\n",
    "    \n",
    "    def __init__(self,make,model,year):\n",
    "        super().__init__(make,model,year)\n",
    "        self.battery = Battery(\"Osaka\", '200Amp')\n",
    "          \n",
    "    "
   ]
  },
  {
   "cell_type": "code",
   "execution_count": 84,
   "metadata": {},
   "outputs": [],
   "source": [
    "eCar = ElectricCar(\"helloCar\", \"new\", 2020)"
   ]
  },
  {
   "cell_type": "code",
   "execution_count": 86,
   "metadata": {},
   "outputs": [
    {
     "name": "stdout",
     "output_type": "stream",
     "text": [
      "Battery size is: 200Amp\n"
     ]
    }
   ],
   "source": [
    "eCar.battery.getBatterySize()"
   ]
  },
  {
   "cell_type": "code",
   "execution_count": null,
   "metadata": {},
   "outputs": [],
   "source": []
  }
 ],
 "metadata": {
  "kernelspec": {
   "display_name": "Python 3",
   "language": "python",
   "name": "python3"
  },
  "language_info": {
   "codemirror_mode": {
    "name": "ipython",
    "version": 3
   },
   "file_extension": ".py",
   "mimetype": "text/x-python",
   "name": "python",
   "nbconvert_exporter": "python",
   "pygments_lexer": "ipython3",
   "version": "3.7.1"
  }
 },
 "nbformat": 4,
 "nbformat_minor": 2
}
